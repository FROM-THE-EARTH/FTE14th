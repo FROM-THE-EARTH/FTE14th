{
  "cells": [
    {
      "cell_type": "markdown",
      "metadata": {
        "id": "4afOII7f0AAy"
      },
      "source": [
        "# GO-NOGO_table\n",
        "****\n",
        "##説明\n",
        "\n",
        "与えられた保安範囲について, 範囲内に落下する条件を表形式で自動出力するプログラム.\n",
        "****\n",
        "##ユーザへ\n",
        "\n",
        "左側（デフォルト）にあるファイルタブから予め保安範囲などのデータをアップロードする.\n",
        "複数指定された場合はいずれか一つの領域に含まれる場合はGOを出力する.\n",
        "\n",
        "\n",
        "ファイルは一行目の緯度, 経度に対応する列に**\"longitude\", \"latitude\"** ないし**\"経度\", \"緯度\"**と書かれていること.\n",
        "座標が2つ以下の場合は無視される.\n",
        "\n",
        "具体的な落下点が書かれたcsvファイルは実行時に纏めてアップロードする.\n",
        "\n",
        "結果はGO_NOGO.csvに保安範囲内に含まれる場合は1を, そうでない場合は0を表形式で纏めて出力される."
      ]
    },
    {
      "cell_type": "markdown",
      "metadata": {
        "id": "tIzYd0LE9k9m"
      },
      "source": [
        "##下のセルを初めに必ず実行してください\n",
        "自作クラス定義"
      ]
    },
    {
      "cell_type": "code",
      "execution_count": null,
      "metadata": {
        "id": "vcpda9yu910i"
      },
      "outputs": [],
      "source": [
        "import geopandas as gpd     # 緯度・経度処理\n",
        "from shapely.geometry import Point, Polygon# gpdの座標\n",
        "import pandas as pd         # csvファイル\n",
        "import numpy as np\n",
        "from pathlib import Path    # パス\n",
        "import shutil               # ディレクトリ削除\n",
        "import os\n",
        "import time                 # タイムスタンプ用\n",
        "from google.colab import files # ファイルアップロード, ダウンロード\n",
        "\n",
        "# 分散表示クラス\n",
        "class scatter_map:\n",
        "    wind_dir_name = [\"北\", \"北北東\", \"北東\", \"東北東\", \"東\", \"東南東\", \"南東\", \"南南東\", \"南\", \"南南西\", \"南西\", \"西南西\", \"西\", ]\n",
        "    def __init__(self):\n",
        "        self.launch_site_gpds = [] # 射場に関するDataFrame\n",
        "\n",
        "    # 射場に関するcsvファイルを読み取る\n",
        "    # file_names : ファイル名 (パス)\n",
        "    def read_launch_site_data(self, file_names):\n",
        "        temp_dfs = list(map(pd.read_csv, file_names))# DataFrame読み取り\n",
        "        for df, name in zip(temp_dfs, file_names):\n",
        "            if not ({\"longitude\", \"latitude\"} <= set(df.columns) or {\"経度\", \"緯度\"} <= set(df.columns)):\n",
        "                continue\n",
        "            if len(df) < 3:\n",
        "                continue\n",
        "            df.rename(columns={ \"経度\" : \"longitude\", \"緯度\" : \"latitude\" }, inplace=True) # \"longitude\", \"latitude\"に統一\n",
        "            self.launch_site_gpds += [gpd.GeoDataFrame(crs=\"epsg:6668\", geometry=[Polygon(df[[\"longitude\", \"latitude\"]])])]\n",
        "\n",
        "    # DataFrameの中から経度, 緯度 or longitude, latitudeを探し, 対応するペアを1組ずつ返す.\n",
        "    def __read_scatter_data_pair(df):\n",
        "        for col in df.columns:\n",
        "            if \"longitude\" in col and col.replace(\"longitude\", \"latitude\") in df.columns:\n",
        "                yield df[[col, col.replace(\"longitude\", \"latitude\")]] # longitude, latitudeの順で格納して返す\n",
        "\n",
        "    # 落下分散のDataFrameと風速, 風向, 経度, 緯度に対応する列名\n",
        "    def go_nogo_table(self, file_names, col_wind_speed, col_wind_dir, show_result = True, DL_result = True):\n",
        "        if not len(file_names): return # ファイル入力がない場合\n",
        "        output_dir = Path(f\"GO_NOGO_RESULT_{int(time.time())}\")\n",
        "        os.mkdir(output_dir)\n",
        "        for df, name in zip(map(pd.read_csv, file_names), map(Path, file_names)): # DataFrame読み取り\n",
        "            os.mkdir(output_dir/name.stem) # ファイル名でディレクトリ作成\n",
        "            for pair in scatter_map.__read_scatter_data_pair(df): # 経度・緯度のペアを1組ずつ読み取り\n",
        "                coord = [gpd.GeoDataFrame(crs=\"epsg:6668\", geometry=[Point(pair.iat[idx, 0], pair.iat[idx, 1])]) for idx in range(len(pair))]\n",
        "                is_contained = pd.DataFrame([1 if any([gpd[\"geometry\"][0].contains([coord[idx]])for gpd in self.launch_site_gpds]) else 0\n",
        "                           for idx in range(len(pair))]) # すべてパターンについて, 与えられたジオメトリ領域に内包されているか\n",
        "                if show_result:\n",
        "                    display(pd.concat([df[[col_wind_speed, col_wind_dir]], is_contained], axis=1))\n",
        "                if DL_result:\n",
        "                    csv_name = pair.columns[0].replace(\"longitude\", \"\") + \".csv\"\n",
        "                    df = pd.concat([df[[col_wind_speed, col_wind_dir]], is_contained], axis=1).sort_values([col_wind_speed, col_wind_dir]) # 必要なデータのみを抽出 & 内包されているかを追加\n",
        "                    df.to_csv(output_dir/name.stem/csv_name) # save as csv\n",
        "                    print(df)\n",
        "                    df2 = pd.concat([df[df[col_wind_speed] == wind_speed].iloc[:, 1:3].set_index(col_wind_dir) for wind_speed in set(df[col_wind_speed])], axis=1, ignore_index=True)\n",
        "                    df2.columns = set(df[col_wind_speed])\n",
        "                    df2.to_csv(output_dir/name.stem/\"GO_NOGO.csv\")\n",
        "\n",
        "        # DL用にZIPファイルに圧縮\n",
        "        if DL_result: shutil.make_archive(output_dir,  format='zip', root_dir=output_dir)\n",
        "        shutil.rmtree(output_dir) # ディレクトリごと削除\n",
        "        if DL_result: files.download(output_dir.with_suffix(\".zip\")) # ファイルダウンロード"
      ]
    },
    {
      "cell_type": "markdown",
      "metadata": {
        "id": "UD_lNENrBKP_"
      },
      "source": [
        "## メインコード"
      ]
    },
    {
      "cell_type": "code",
      "source": [
        "import glob # ファイル構造\n",
        "import warnings # 警告無視用（任意）\n",
        "warnings.simplefilter(\"ignore\", UserWarning) # 特定の警告を無視\n",
        "%unload_ext google.colab.data_table\n",
        "\n",
        "def main():\n",
        "    # アップロードするデータの風速，風向，緯度，経度の列名\n",
        "    col_wind_speed = \"wind_speed[m/s]\"\n",
        "    col_wind_dir   = \"wind_dir[deg]\"\n",
        "\n",
        "    map = scatter_map()\n",
        "    map.read_launch_site_data([\"落下可能域.csv\"])\n",
        "    # # ファイルアップロード\n",
        "    file_names = list(files.upload().keys()) # 複数ファイルをいっきにUPしてもOK\n",
        "    # file_names = [\"para_with_detachment.csv\"]\n",
        "    map.go_nogo_table(file_names, col_wind_speed, col_wind_dir, show_result=False)\n",
        "    for f in file_names: os.remove(f) # 射場データ以外のcsvファイルは削除\n",
        "\n",
        "if __name__ == \"__main__\":\n",
        "    main()"
      ],
      "metadata": {
        "id": "wADxvvC6n0Fd"
      },
      "execution_count": null,
      "outputs": []
    },
    {
      "cell_type": "markdown",
      "metadata": {
        "id": "YdXLCo9MgFx-"
      },
      "source": [
        "# 作成者\n",
        "佐藤空馬 (14期)"
      ]
    }
  ],
  "metadata": {
    "colab": {
      "provenance": []
    },
    "kernelspec": {
      "display_name": "Python 3",
      "name": "python3"
    },
    "language_info": {
      "name": "python"
    }
  },
  "nbformat": 4,
  "nbformat_minor": 0
}