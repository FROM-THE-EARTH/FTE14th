{
  "nbformat": 4,
  "nbformat_minor": 0,
  "metadata": {
    "colab": {
      "provenance": []
    },
    "kernelspec": {
      "name": "python3",
      "display_name": "Python 3"
    },
    "language_info": {
      "name": "python"
    }
  },
  "cells": [
    {
      "cell_type": "markdown",
      "source": [
        "# n方位抽出\n",
        "\n",
        "北を基準にn等分した角度の値と合致した列のみを抽出します.  \n",
        "ついでに時計回りにソート & [0, 360)の範囲に角度を修正します.\n",
        "\n",
        "[使い方]  \n",
        "ユーザ入力欄に風速・風向の列名, n方位を抽出したいかを順に指定します.\n",
        "抽出先のcsvファイルは実行時にファイル選択ボタンから選択してください."
      ],
      "metadata": {
        "id": "ypcdB7SsV-h-"
      }
    },
    {
      "cell_type": "code",
      "execution_count": null,
      "metadata": {
        "id": "TZ56LjTwV5o1"
      },
      "outputs": [],
      "source": [
        "import pandas as pd\n",
        "import numpy as np\n",
        "from pathlib import Path\n",
        "import glob\n",
        "import os\n",
        "from google.colab import files, runtime # ファイルアップロード, ダウンロード\n",
        "\n",
        "###  ユーザ入力欄   ###\n",
        "col_wind_speed = \"wind_speed[m/s]\" # 風速の列名\n",
        "col_wind_dir = \"wind_dir[deg]\" # 風向の列名\n",
        "n_dir = 16 # 何等分 ?\n",
        "\n",
        "## 以下, いじらない\n",
        "for f in glob.glob(\"*.csv\"):\n",
        "    os.remove(f)\n",
        "\n",
        "print(\"ファイルを選択してください (複数ファイルも可)\")\n",
        "file_names = list(files.upload().keys()) # 複数ファイルをいっきにUPしてもOK\n",
        "data = [(df, path) for df, path in zip(map(pd.read_csv, file_names), map(Path, file_names))\n",
        "    if {col_wind_speed, col_wind_dir} <= set(df.columns) and path.suffix == \".csv\" ]\n",
        "if len(data) == 0:\n",
        "    print(f\"error: 列名 : {col_wind_dir} または {col_wind_dir} が存在しません\")\n",
        "\n",
        "for df, path in data:\n",
        "    df[col_wind_dir] = df[col_wind_dir] % 360\n",
        "    df = df[df[col_wind_dir].isin(np.linspace(0, 360, n_dir, False))]\n",
        "    df = df.sort_values([col_wind_speed, col_wind_dir]) # 風向でソート\n",
        "    df.reset_index(drop=True, inplace=True) # 番号を振りなおす\n",
        "    output_path = f\"[modified] {path.stem}_{n_dir}dirs.csv\"\n",
        "    df.to_csv(output_path, index=False)\n",
        "    files.download(output_path)"
      ]
    }
  ]
}